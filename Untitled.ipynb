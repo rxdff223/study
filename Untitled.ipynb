{
 "cells": [
  {
   "cell_type": "markdown",
   "id": "051e2968-96e9-4595-9ad0-65059e25a95b",
   "metadata": {},
   "source": [
    "经典粒子同时具有确定的能量和动量，但服从量子力学运动规律的微观粒子是不可能的，如果一个量子态的经典描述近似成立，则在量子力学中这个态就要用一个“波包”来代表，所谓波包是指该粒子（例如电子）空间分布在 $r_{0}$ 附近的$\\triangle r$范围内，动量取值在 $\\hbar k_{0}$ 附近的h∆k 范围内， $\\Delta r\\Delta k$ 满足不确定关系。把波包中心 $r_{0}$ 看作该粒子的位置，把 $\\mathrm{h}k_{0}$ 看作该粒子的动量。  "
   ]
  },
  {
   "cell_type": "code",
   "execution_count": null,
   "id": "4eeffba7-cb86-4531-9a2e-2d6e5befaef4",
   "metadata": {},
   "outputs": [],
   "source": []
  }
 ],
 "metadata": {
  "kernelspec": {
   "display_name": "Python 3 (ipykernel)",
   "language": "python",
   "name": "python3"
  },
  "language_info": {
   "codemirror_mode": {
    "name": "ipython",
    "version": 3
   },
   "file_extension": ".py",
   "mimetype": "text/x-python",
   "name": "python",
   "nbconvert_exporter": "python",
   "pygments_lexer": "ipython3",
   "version": "3.12.8"
  }
 },
 "nbformat": 4,
 "nbformat_minor": 5
}
