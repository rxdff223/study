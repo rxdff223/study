{
 "cells": [
  {
   "cell_type": "markdown",
   "id": "50becf0c-c23e-4b10-b735-f234189ef2c6",
   "metadata": {},
   "source": [
    "# git\n",
    "## git官网\n",
    "https://git-scm.com/\n",
    "## git官方图书\n",
    "https://git-scm.com/book/en/v2"
   ]
  },
  {
   "cell_type": "markdown",
   "id": "303e8d25-f8b6-4631-a1d2-2e919bfd432f",
   "metadata": {},
   "source": [
    "# 配置：\n",
    "git config --global user.name\" \"\n",
    "\n",
    "git config --global user.email @qq.com\n",
    "\n",
    "git config --global http.proxy http://127.0.0.1:7890\n",
    "\n",
    "git config --global https.proxy https://127.0.0.1:7890"
   ]
  },
  {
   "cell_type": "code",
   "execution_count": null,
   "id": "b31105d9-3205-431e-a215-56a456d9cf67",
   "metadata": {},
   "outputs": [],
   "source": []
  }
 ],
 "metadata": {
  "kernelspec": {
   "display_name": "Python 3 (ipykernel)",
   "language": "python",
   "name": "python3"
  },
  "language_info": {
   "codemirror_mode": {
    "name": "ipython",
    "version": 3
   },
   "file_extension": ".py",
   "mimetype": "text/x-python",
   "name": "python",
   "nbconvert_exporter": "python",
   "pygments_lexer": "ipython3",
   "version": "3.12.8"
  }
 },
 "nbformat": 4,
 "nbformat_minor": 5
}
