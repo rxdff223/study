{
 "cells": [
  {
   "cell_type": "markdown",
   "id": "cfd2d2ba-aeb7-4bc0-aa54-27aeae0800c2",
   "metadata": {},
   "source": [
    "# machine learning\n",
    "artifical general intelligence(AGI)还早\n",
    "What is mechain learning?\n",
    "让计算机学习而没有明确的代码(1959)\n",
    "\n",
    "machine learning type:\n",
    "1.supervised learning (used most)\n",
    "2.unsupervised learning\n",
    "\n",
    "parctise is the most important thing.\n",
    "\n",
    "## supervised learning监督学习\n",
    "give learning algorithm examples to learn from X(INPUT) to Y(OUTPUT)\n",
    "广告行业 advertsing 是否会点击\n",
    "visual inspection,检查屏幕缺陷\n",
    "regression algorithm回归：<u>predict</u> a number from infinitely many possible ouputs.\n",
    "Classification分类算法：1/0在判断肿瘤中的运用 to predict categories![image.png](attachment:6f556084-54e5-49ff-a3d7-3f884070d538.png)\n",
    "\n",
    "### Linear Regression with One Variable. (线性回归算法)\n",
    "This is a type of supervised model.\n",
    "\n",
    "\n",
    "\n",
    "## unsupervised learning无监督学习\n",
    "clustering algorithm聚类算法：cluster(集群):推荐算法：如panda下方的推荐都是有panda的视频\n",
    "data only comes with inputs x, but no y\n",
    "algorithm has to find structure in the data.\n",
    "1. clustering\n",
    "2. anomaly detection:异常检查\n",
    "3. dimensionality reduction:数据降维\n",
    "\n",
    "\n",
    "\n",
    "\n"
   ]
  }
 ],
 "metadata": {
  "kernelspec": {
   "display_name": "Python 3 (ipykernel)",
   "language": "python",
   "name": "python3"
  },
  "language_info": {
   "codemirror_mode": {
    "name": "ipython",
    "version": 3
   },
   "file_extension": ".py",
   "mimetype": "text/x-python",
   "name": "python",
   "nbconvert_exporter": "python",
   "pygments_lexer": "ipython3",
   "version": "3.12.8"
  }
 },
 "nbformat": 4,
 "nbformat_minor": 5
}
