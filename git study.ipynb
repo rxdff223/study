{
 "cells": [
  {
   "cell_type": "markdown",
   "id": "50becf0c-c23e-4b10-b735-f234189ef2c6",
   "metadata": {},
   "source": [
    "# git\n",
    "## git官网\n",
    "https://git-scm.com/\n",
    "## git官方图书\n",
    "https://git-scm.com/book/en/v2"
   ]
  },
  {
   "cell_type": "code",
   "execution_count": null,
   "id": "63e38990-5872-48de-b8a6-efc5d8168f92",
   "metadata": {},
   "outputs": [],
   "source": []
  }
 ],
 "metadata": {
  "kernelspec": {
   "display_name": "Python 3 (ipykernel)",
   "language": "python",
   "name": "python3"
  },
  "language_info": {
   "codemirror_mode": {
    "name": "ipython",
    "version": 3
   },
   "file_extension": ".py",
   "mimetype": "text/x-python",
   "name": "python",
   "nbconvert_exporter": "python",
   "pygments_lexer": "ipython3",
   "version": "3.12.8"
  }
 },
 "nbformat": 4,
 "nbformat_minor": 5
}
