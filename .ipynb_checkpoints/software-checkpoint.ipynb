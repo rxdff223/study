{
 "cells": [
  {
   "cell_type": "markdown",
   "id": "c929ebf5-bc79-47af-bb16-8a4c00880085",
   "metadata": {},
   "source": [
    "# 工作软件及其简介\n",
    "1.jupyter打不开：https://github.com/jupyter/notebook/issues/5361\n",
    "\n",
    "2.翻译软件名为：沉浸式翻译，非常好用\n",
    "\n",
    "3.钉屏幕软件：snipaste"
   ]
  },
  {
   "cell_type": "code",
   "execution_count": null,
   "id": "069e58b9-2ea3-43e2-bfa8-f858757240e4",
   "metadata": {},
   "outputs": [],
   "source": []
  }
 ],
 "metadata": {
  "kernelspec": {
   "display_name": "Python 3 (ipykernel)",
   "language": "python",
   "name": "python3"
  },
  "language_info": {
   "codemirror_mode": {
    "name": "ipython",
    "version": 3
   },
   "file_extension": ".py",
   "mimetype": "text/x-python",
   "name": "python",
   "nbconvert_exporter": "python",
   "pygments_lexer": "ipython3",
   "version": "3.12.8"
  }
 },
 "nbformat": 4,
 "nbformat_minor": 5
}
