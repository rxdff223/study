{
 "cells": [
  {
   "cell_type": "markdown",
   "id": "c60421c0-342c-47d0-864e-8be1059f0ab2",
   "metadata": {},
   "source": [
    "# requests\n",
    "\n",
    "是一个用于发送 HTTP 请求的 Python 库。它简化了与 HTTP 协议的交互，使得发送 HTTP 请求和处理响应变得非常简单。以下是requests库的一些主要功能和常用方法：\n",
    "\n",
    "url:是统一资源定位符（英语：Uniform Resource Locator，缩写：URL，或称统一资源定位器、定位地址、URL地址）俗称网页地址，简称网址\n",
    "\n",
    "## 主要功能\n",
    "\n",
    "1. **发送 HTTP 请求**：\n",
    "\n",
    "requests.get(url, params=None, **kwargs): 发送 GET 请求。就是get东西，不需要发送东西，只需要get就会返回内容。\n",
    "\n",
    "requests.post(url, data=None, json=None, **kwargs): 发送 POST 请求。像对大模型的请问就需要用post.\n",
    "\n",
    "requests.put(url, data=None, **kwargs): 发送 PUT 请求。\n",
    "\n",
    "requests.delete(url, **kwargs): 发送 DELETE 请求。\n",
    "\n",
    "requests.head(url, **kwargs): 发送 HEAD 请求。\n",
    "\n",
    "requests.options(url, **kwargs): 发送 OPTIONS 请求。\n",
    "\n",
    "2. **处理响应**：\n",
    "`response.status_code`: 获取响应的状态码。\n",
    "`response.text`: 获取响应的文本内容。\n",
    "`response.json()`: 将响应内容解析为 JSON 格式。\n",
    "`response.content`: 获取响应的二进制内容。\n",
    "`response.headers`: 获取响应头信息。\n",
    "`response.cookies`: 获取响应的 cookies。\n",
    "\n",
    "3. **异常处理**：\n",
    "\n",
    "requests.exceptions.RequestException: 所有请求异常的基类。\n",
    "\n",
    "requests.exceptions.HTTPError: HTTP 请求返回错误状态码时引发的异常。\n",
    "\n",
    "requests.exceptions.ConnectionError: 网络问题（如 DNS 查询失败、拒绝连接等）引发的异常。\n",
    "\n",
    "requests.exceptions.Timeout: 请求超时引发的异常。\n",
    "\n",
    "requests.exceptions.TooManyRedirects: 请求超过最大重定向次数引发的异常。\n",
    "\n",
    "## 示例代码"
   ]
  },
  {
   "cell_type": "code",
   "execution_count": 1,
   "id": "dcac4bef-29db-417e-b741-ca0dfaeae2eb",
   "metadata": {},
   "outputs": [
    {
     "name": "stdout",
     "output_type": "stream",
     "text": [
      "Status code: 200\n",
      "Total repositories: 14587518\n",
      "Repositories returned: 30\n"
     ]
    }
   ],
   "source": [
    "import requests\n",
    "\n",
    "# 执行API调用并存储响应\n",
    "url = 'https://api.github.com/search/repositories?q=language:python&sort=starts'\n",
    "# 将url传递给r，再将响应对象存储在变量r中\n",
    "\n",
    "r = requests.get(url)\n",
    "# 通过查看响应对象的一个status_code属性，知道了请求是否成功（状态码200表示请求成功）\n",
    "print(\"Status code:\", r.status_code)\n",
    "\n",
    "# 将API响应存储在一个变量中（将返回的json格式信息转化为python字典）\n",
    "response_dict = r.json()\n",
    "print(\"Total repositories:\", response_dict['total_count']) # 查看共有多少个仓库\n",
    "\n",
    "# 探索有关仓库的信息\n",
    "repo_dicts = response_dict['items'] # 每个与items相关的字典都包含一个有关python仓库的信息\n",
    "print(\"Repositories returned:\", len(repo_dicts)) # 查看得到了多少个仓库的信息\n",
    "\n"
   ]
  },
  {
   "cell_type": "code",
   "execution_count": 2,
   "id": "2d23558c-1d3d-4610-a7fc-d8b2282e3bd4",
   "metadata": {},
   "outputs": [
    {
     "name": "stdout",
     "output_type": "stream",
     "text": [
      "{'title': 'foo', 'body': 'bar', 'userId': 1, 'id': 101}\n"
     ]
    }
   ],
   "source": [
    "#!/usr/bin/env python3\n",
    "# coding:utf-8\n",
    "import requests\n",
    "\n",
    "def main():\n",
    "    url = 'https://jsonplaceholder.typicode.com/posts'\n",
    "    payload = {\n",
    "        \"title\": \"foo\",\n",
    "        \"body\": \"bar\",\n",
    "        \"userId\": 1\n",
    "    }\n",
    "    resp = requests.post(url, json=payload)\n",
    "    print(resp.json())\n",
    "\n",
    "if __name__ == '__main__':\n",
    "    main()\n"
   ]
  },
  {
   "cell_type": "markdown",
   "id": "19babd83-a04b-42d1-95e5-2fd87b8060e8",
   "metadata": {},
   "source": [
    "payload:是指请求体中携带的数据（如：JSON、表单数据、文件）通常为字典。\n",
    "\n",
    "可以使用 json 参数将字典数据作为 JSON 格式发送，或者使用 data 参数将数据作为表单数据发送。\n",
    "\n",
    "response = requests.post(url, json=payload)\n",
    "\n",
    "response = requests.post(url, data=payload)"
   ]
  },
  {
   "cell_type": "markdown",
   "id": "a25ca3f8",
   "metadata": {},
   "source": [
    "## 总结\n",
    "\n",
    "requests库提供了一个简单而强大的接口，用于发送各种类型的 HTTP 请求，并处理响应数据。它支持会话、认证、重定向、代理、文件上传等功能，是 Python 中进行 HTTP 请求的首选库。"
   ]
  }
 ],
 "metadata": {
  "kernelspec": {
   "display_name": "Python 3 (ipykernel)",
   "language": "python",
   "name": "python3"
  },
  "language_info": {
   "codemirror_mode": {
    "name": "ipython",
    "version": 3
   },
   "file_extension": ".py",
   "mimetype": "text/x-python",
   "name": "python",
   "nbconvert_exporter": "python",
   "pygments_lexer": "ipython3",
   "version": "3.12.8"
  }
 },
 "nbformat": 4,
 "nbformat_minor": 5
}
