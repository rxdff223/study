{
 "cells": [
  {
   "cell_type": "markdown",
   "id": "ce6a197e-af53-4320-9a63-0e017ec535bf",
   "metadata": {},
   "source": [
    "# self introduction\n",
    "\n",
    "面向对象最重要的概念就是类（class）（学生）和实例（instance）（小明）"
   ]
  },
  {
   "cell_type": "markdown",
   "id": "d0a47bb3-c4cd-466e-abbd-b44952af0a9e",
   "metadata": {},
   "source": [
    "## 1\n",
    "\n",
    "以Student类为例，在Python中，定义类如下：\n",
    "\n",
    "在 Python 中，object 是所有类的基类。在 Python 2 中，显式地继承 object 是为了创建一个新式类（new-style class），而不是旧式类（classic class）。新式类和旧式类在继承、属性访问等方面有一些区别，例如新式类支持描述符协议、属性装饰器等特性。\n",
    "\n",
    "class Student(object) 表示 Student 类继承自 object，这样 Student 就是一个新式类。从 Python 3 开始，所有类默认都是新式类，所以可以省略 object，直接写 class Student: 也是可以的，效果是一样的。"
   ]
  },
  {
   "cell_type": "code",
   "execution_count": null,
   "id": "c0f35473-ef7e-42cb-8e5a-22e3e1e646ce",
   "metadata": {},
   "outputs": [],
   "source": [
    "class Student():\n",
    "    pass"
   ]
  },
  {
   "cell_type": "markdown",
   "id": "f8cb918b-2f9b-4d48-969b-86ef8030b25b",
   "metadata": {},
   "source": [
    "## 2\n",
    "实例：定义好了类，就可以通过Student类创建出Student的实例，创建实例是通过类名+()实现："
   ]
  },
  {
   "cell_type": "code",
   "execution_count": null,
   "id": "bb55840a-7983-45c6-be47-6e515d458348",
   "metadata": {},
   "outputs": [],
   "source": [
    "student = Student()"
   ]
  },
  {
   "cell_type": "markdown",
   "id": "a03e4f9b-b159-429c-ae5b-d40998e7e86c",
   "metadata": {},
   "source": [
    "## 3\n",
    "由于类起到模板的作用，因此，可以在创建实例的时候，把我们认为必须绑定的属性强制填写进去。这里就用到Python当中的一个内置方法__init__方法，例如在Student类时，把name、score等属性绑上去:"
   ]
  },
  {
   "cell_type": "code",
   "execution_count": 3,
   "id": "0d5d90b2-43f9-42c0-8e00-de3547b75e0a",
   "metadata": {},
   "outputs": [],
   "source": [
    "class Student():\n",
    "    def __init__(self, name, score):\n",
    "        self.name = name\n",
    "        self.score = score"
   ]
  },
  {
   "cell_type": "markdown",
   "id": "54097938-0934-40d0-812e-b0d8de0ba3aa",
   "metadata": {},
   "source": [
    "这里注意：\n",
    "\n",
    "1.__init__方法的第一参数永远是self，表示创建的类实例本身，因此，在__init__方法内部，就可以把各种属性绑定到self，因为self就指向创建的**实例**本身。\n",
    "\n",
    "2.有了__init__方法，在创建实例的时候，就不能传入空的参数了，**必须传入与__init__方法匹配的参数**，但self不需要传，Python解释器会自己把实例变量传进去：\n"
   ]
  },
  {
   "cell_type": "code",
   "execution_count": 4,
   "id": "ddbc953a-0ee0-4a28-b1be-a6d1cd3100b5",
   "metadata": {},
   "outputs": [
    {
     "name": "stdout",
     "output_type": "stream",
     "text": [
      "fan\n"
     ]
    }
   ],
   "source": [
    "student = Student(\"fan\", 750)\n",
    "print(student.name)"
   ]
  },
  {
   "cell_type": "markdown",
   "id": "6418913c-81b8-4460-ac1c-1b3d7bcccbdf",
   "metadata": {},
   "source": [
    "## 4 \n",
    "self 的含义\n",
    "\n",
    "self是指类的实例对象。在类的方法中，self 用于表示调用该方法的实例对象。通过 self，可以访问实例对象的属性和方法。\n",
    "\n",
    "例如，当你创建一个 Student 类的实例 s = Student('Alice', 90) 时，s 就是一个实例对象。在 __init__ 方法中，self 就代表这个 s 实例。\n",
    "\n",
    "属性变量\n",
    "\n",
    "self.name 是实例属性，属于具体的实例对象，而不是类本身。每个实例对象都有自己的 name 属性，这些属性是独立的。\n",
    "\n",
    "name 是外部传入的参数，用于初始化实例对象的 name 属性。\n",
    "\n",
    "赋值操作\n",
    "\n",
    "self.name = name 的意思是：将外部传入的参数 name 的值赋给当前实例对象的 name 属性。\n",
    "\n",
    "这样，每个 Student 实例都有自己的 name 属性，这些属性是独立的，不会相互影响"
   ]
  },
  {
   "cell_type": "markdown",
   "id": "4669ead9-9c87-4bf6-85a8-174ba543ec88",
   "metadata": {},
   "source": [
    "## 5\n",
    "既然**Student类实例**本身就拥有这些数据，那么要访问这些数据，就没必要从外面的函数去访问，而可以直接在Student类的内部定义访问数据的函数（方法），这样，就可以把”数据”封装起来。这些封装数据的函数是和Student类本身是关联起来的，称之为类的方法："
   ]
  },
  {
   "cell_type": "code",
   "execution_count": 10,
   "id": "30c55fcb-e25b-4052-9d68-5b11515d26df",
   "metadata": {},
   "outputs": [],
   "source": [
    "class Student():\n",
    "    #两个都必须要调用\n",
    "    def __init__(self, name, score):\n",
    "        self.name = name\n",
    "        self.score = score\n",
    "    def print_score(self):\n",
    "        print(self.name, self.score)"
   ]
  },
  {
   "cell_type": "code",
   "execution_count": 12,
   "id": "77af4860-75d0-44ad-a72b-2c85d6c40fe2",
   "metadata": {},
   "outputs": [
    {
     "name": "stdout",
     "output_type": "stream",
     "text": [
      "fan\n",
      "fan 11\n"
     ]
    }
   ],
   "source": [
    "fan = Student('fan',11)\n",
    "print(fan.name)\n",
    "fan.print_score()"
   ]
  },
  {
   "cell_type": "markdown",
   "id": "04f23d5e-9be8-491d-9045-c264a580af9a",
   "metadata": {},
   "source": [
    "这样一来，我们从外部看Student类，就只需要知道，创建实例需要给出name和score。而如何打印，都是在Student类的内部定义的，这些数据和逻辑被封装起来了，调用很容易，**但却不知道内部实现的细节**。\n",
    "\n",
    "如果要让**内部属性不被外部访问**，可以把属性的名称前加上**两个下划线**，在Python中，实例的变量名如果以开头，就变成了一个私有变量（private），只有内部可以访问，外部不能访问，所以，我们把Student类改一改："
   ]
  },
  {
   "cell_type": "code",
   "execution_count": 13,
   "id": "e2244299-fc3b-43dd-9013-e84c4340f90e",
   "metadata": {},
   "outputs": [],
   "source": [
    "class Student():\n",
    "    def __init__(self, name, score):\n",
    "        self.__name = name\n",
    "        self.__score = score\n",
    "    def print_score(self):\n",
    "        print(self.__name,self.__score)"
   ]
  },
  {
   "cell_type": "code",
   "execution_count": 14,
   "id": "82cf4ff1-9985-4e32-bf49-a33a9de9dd39",
   "metadata": {},
   "outputs": [
    {
     "ename": "AttributeError",
     "evalue": "'Student' object has no attribute '__name'",
     "output_type": "error",
     "traceback": [
      "\u001b[1;31m---------------------------------------------------------------------------\u001b[0m",
      "\u001b[1;31mAttributeError\u001b[0m                            Traceback (most recent call last)",
      "Cell \u001b[1;32mIn[14], line 2\u001b[0m\n\u001b[0;32m      1\u001b[0m student \u001b[38;5;241m=\u001b[39m Student(\u001b[38;5;124m'\u001b[39m\u001b[38;5;124mHugh\u001b[39m\u001b[38;5;124m'\u001b[39m, \u001b[38;5;241m99\u001b[39m)\n\u001b[1;32m----> 2\u001b[0m \u001b[43mstudent\u001b[49m\u001b[38;5;241;43m.\u001b[39;49m\u001b[43m__name\u001b[49m\n",
      "\u001b[1;31mAttributeError\u001b[0m: 'Student' object has no attribute '__name'"
     ]
    }
   ],
   "source": [
    "student = Student('Hugh', 99)\n",
    "student.__name"
   ]
  },
  {
   "cell_type": "markdown",
   "id": "77b8d087-87cc-4aa1-91ec-9fa1da8025ec",
   "metadata": {},
   "source": [
    "这样就确保了外部代码不能随意修改对象内部的状态，这样通过访问限制的保护，代码更加健壮。\n",
    "\n",
    "但是如果外部代码要获取name和score怎么办？可以给Student类增加get_name和get_score这样的方法：(很多都是这样子写的，很有趣)"
   ]
  },
  {
   "cell_type": "code",
   "execution_count": 15,
   "id": "e2032ec7-03b1-447d-8199-ebfe9dcf3aa7",
   "metadata": {},
   "outputs": [],
   "source": [
    "class Student():\n",
    "    def __init__(self, name, score):\n",
    "        self.__name = name\n",
    "        self.__score = score\n",
    "\n",
    "    def print_score(self):\n",
    "        print(self.__name,self.__score)\n",
    "        \n",
    "    def get_name(self):\n",
    "        return self.__name\n",
    "        \n",
    "    def get_score(self):\n",
    "        return self.__score"
   ]
  },
  {
   "cell_type": "markdown",
   "id": "42aefca2-33c6-4e90-a5e8-85bce2686827",
   "metadata": {},
   "source": [
    "如果又要允许外部代码修改score怎么办？可以给Student类增加set_score方法："
   ]
  },
  {
   "cell_type": "code",
   "execution_count": null,
   "id": "7995c880-7c20-4e27-b544-cf4086ad5338",
   "metadata": {},
   "outputs": [],
   "source": [
    "class Student():\n",
    "    def __init__(self, name, score):\n",
    "        self.__name = name\n",
    "        self.__score = score\n",
    "\n",
    "    def print_score(self):\n",
    "        print(self.__name,self.__score)\n",
    "        \n",
    "    def get_name(self):\n",
    "        return self.__name\n",
    "        \n",
    "    def get_score(self):\n",
    "        return self.__score\n",
    "        \n",
    "    def set_score(self, score):\n",
    "        self.__score = score"
   ]
  },
  {
   "cell_type": "markdown",
   "id": "75fb3ca0-af44-42e0-a8a4-6705dd1034e4",
   "metadata": {},
   "source": [
    "需要注意的是，在Python中，变量名类似__xxx__的，也就是以双下划线开头，并且以双下划线结尾的，是特殊变量（个人理解是公开变量），特殊变量是可以直接访问的，不是private变量，所以，不能用__name__、__score__这样的变量名。\n",
    "\n",
    "有些时候，你会看到以**一个下划线**开头的实例变量名，比如_name，这样的实例变量外部是可以访问的，但是，按照约定俗成的规定，当你看到这样的变量时，意思就是，**虽然我可以被访问，但是，请把我视为私有变量，不要随意访问**。\n"
   ]
  },
  {
   "cell_type": "markdown",
   "id": "6325a7d6-40e6-47dd-ad07-e143123bd919",
   "metadata": {},
   "source": [
    "## 6\n",
    "self的仔细用法\n",
    "\n",
    "(1)、self代表类的实例，而非类。"
   ]
  },
  {
   "cell_type": "code",
   "execution_count": 17,
   "id": "c52c8463-6572-48a4-ba5c-c11d6d7dc00d",
   "metadata": {},
   "outputs": [
    {
     "name": "stdout",
     "output_type": "stream",
     "text": [
      "<__main__.Test object at 0x00000199C8AF6540>\n",
      "<class '__main__.Test'>\n",
      "<class '__main__.Test'>\n"
     ]
    }
   ],
   "source": [
    "class Test:\n",
    "    def ppr(self):\n",
    "        print(self)\n",
    "        print(type(self))\n",
    "        print(self.__class__)\n",
    "\n",
    "t = Test()\n",
    "t.ppr()"
   ]
  },
  {
   "cell_type": "markdown",
   "id": "d0ea4a75-0d17-4d99-bf48-26973b79ec82",
   "metadata": {},
   "source": [
    "从上面的例子中可以很明显的看出，self代表的是类的实例。而self.__class__则指向类。\n",
    "\n",
    "print(self)：在类的方法中，self代表类的实例对象。这里t.ppr()调用的是t这个Test类的实例对象的ppr方法，所以self就是t，打印出来就是t这个对象的信息，格式为**<模块名.类名 object at 内存地址>**，表示这是一个Test类的实例对象，位于特定的内存地址。\n",
    "\n",
    "print(type(self))：type()函数用于获取对象的类型。由于self是Test类的一个实例，所以它的类型就是Test类本身，打印出来就是<class '__main__.Test'>，**表示这是一个类，名为Test，定义在当前模块（__main__）中。**\n",
    "\n",
    "如果这个Test类是从其他模块导入的，这时，当你运行test.py，输出结果会是<class '模块名字.Test'>，表示Test类是从other_module模块导入的，而不是在当前直接运行的脚本（__main__）中定义的。\n",
    "\n",
    "print(self.__class__)：对象的__class__属性表示该对象所属的类。同样，self是Test类的实例，所以它的__class__属性就是Test类，打印结果也是<class '__main__.Test'>，和type(self)的结果一致，都表示该对象所属的类是Test。\n",
    "\n",
    "注意：把self换成this，结果也一样，但Python中最好用约定俗成的self。"
   ]
  },
  {
   "cell_type": "markdown",
   "id": "eef47241-086e-480d-9f78-d4d4719d34d0",
   "metadata": {},
   "source": [
    "（2）、self可以不写吗？\n",
    "\n",
    "在Python解释器的内部，当我们调用t.ppr()时，实际上Python解释成**Test.ppr(t)**，也就是把self替换成了类的实例。"
   ]
  },
  {
   "cell_type": "code",
   "execution_count": 18,
   "id": "44052848-09c3-4f1b-b572-d36ba45e29d9",
   "metadata": {},
   "outputs": [
    {
     "ename": "TypeError",
     "evalue": "Test.ppr() takes 0 positional arguments but 1 was given",
     "output_type": "error",
     "traceback": [
      "\u001b[1;31m---------------------------------------------------------------------------\u001b[0m",
      "\u001b[1;31mTypeError\u001b[0m                                 Traceback (most recent call last)",
      "Cell \u001b[1;32mIn[18], line 6\u001b[0m\n\u001b[0;32m      3\u001b[0m         \u001b[38;5;28mprint\u001b[39m(\u001b[38;5;28mself\u001b[39m)\n\u001b[0;32m      5\u001b[0m t \u001b[38;5;241m=\u001b[39m Test()\n\u001b[1;32m----> 6\u001b[0m \u001b[43mt\u001b[49m\u001b[38;5;241;43m.\u001b[39;49m\u001b[43mppr\u001b[49m\u001b[43m(\u001b[49m\u001b[43m)\u001b[49m\n",
      "\u001b[1;31mTypeError\u001b[0m: Test.ppr() takes 0 positional arguments but 1 was given"
     ]
    }
   ],
   "source": [
    "class Test:\n",
    "    def ppr():\n",
    "        print(self)\n",
    "\n",
    "t = Test()\n",
    "t.ppr()"
   ]
  },
  {
   "cell_type": "markdown",
   "id": "451edaf0-a409-497d-b6e0-697a620d5f16",
   "metadata": {},
   "source": [
    "运行时提醒错误如下：ppr在定义时没有参数，但是我们运行时**强行传了一个参数。**\n",
    "\n",
    "**由于上面解释过了t.ppr()等同于Test.ppr(t)，所以程序提醒我们多传了一个参数t。**\n",
    "\n",
    "这里实际上已经部分说明了self在class中的def要调用时不可以省略。\n",
    "\n",
    "当然，如果我们的定义和调用时均不传类实例是可以的，这就是**类方法**。"
   ]
  },
  {
   "cell_type": "code",
   "execution_count": 19,
   "id": "92cd5a1f-c4dc-4570-a999-6f989afa25d7",
   "metadata": {},
   "outputs": [
    {
     "name": "stdout",
     "output_type": "stream",
     "text": [
      "<class '__main__.Test'>\n"
     ]
    }
   ],
   "source": [
    "class Test:\n",
    "    def ppr():\n",
    "        print(__class__)\n",
    "\n",
    "Test.ppr()\n"
   ]
  },
  {
   "cell_type": "markdown",
   "id": "91fd8849-b3a1-4f42-9931-4dd7d5424512",
   "metadata": {},
   "source": [
    "（3）、在继承时，传入的是哪个实例，就是那个传入的实例，而不是指定义了self的类的实例。"
   ]
  },
  {
   "cell_type": "code",
   "execution_count": 20,
   "id": "05e1bc61-c2f5-47d3-a6eb-2dcedcd8b95b",
   "metadata": {},
   "outputs": [
    {
     "name": "stdout",
     "output_type": "stream",
     "text": [
      "<__main__.Child object at 0x00000199C8C828D0>\n",
      "<__main__.Child object at 0x00000199C8C828D0>\n",
      "<__main__.Parent object at 0x00000199C8A5D8B0>\n"
     ]
    }
   ],
   "source": [
    "class Parent:\n",
    "    def pprt(self):\n",
    "        print(self)\n",
    "\n",
    "class Child(Parent):\n",
    "    def cprt(self):\n",
    "        print(self)\n",
    "c = Child()\n",
    "c.cprt()\n",
    "c.pprt()\n",
    "p = Parent()\n",
    "p.pprt()"
   ]
  },
  {
   "cell_type": "markdown",
   "id": "6d8b2986-6141-4e93-96d3-8bbb04e82b63",
   "metadata": {},
   "source": [
    "解释：\n",
    "\n",
    "运行c.cprt()时应该没有理解问题，指的是Child类的实例。\n",
    "\n",
    "但是在运行c.pprt()时，等同于Child.pprt(c)，**所以self指的依然是Child类的实例**，由于self中**没有定义pprt()方法**，所以沿着继承树往上**找**，发现在父类Parent中定义了pprt()方法，所以就会成功调用。\n"
   ]
  },
  {
   "cell_type": "code",
   "execution_count": 22,
   "id": "d16052c7-0cff-40c5-b69f-ecd411b4537f",
   "metadata": {},
   "outputs": [
    {
     "name": "stdout",
     "output_type": "stream",
     "text": [
      "self in Test: <__main__.Test object at 0x00000199C8CA4830>\n",
      "self in Desc: <__main__.Desc object at 0x00000199C8C82660> \n",
      "<__main__.Desc object at 0x00000199C8C82660> <__main__.Test object at 0x00000199C8CA4830> <class '__main__.Test'>\n"
     ]
    }
   ],
   "source": [
    "class Desc:\n",
    "    def __get__(self, ins, cls):\n",
    "        print('self in Desc: %s ' % self )\n",
    "        print(self, ins, cls)\n",
    "class Test:\n",
    "    x = Desc()\n",
    "    def prt(self):\n",
    "        print('self in Test: %s' % self)\n",
    "t = Test()\n",
    "t.prt()\n",
    "t.x"
   ]
  },
  {
   "cell_type": "markdown",
   "id": "b0105bc3-01fb-488b-b57f-e3c3699f99d5",
   "metadata": {},
   "source": [
    "这里主要的疑问应该在：Desc类中定义的self不是应该是调用它的实例t吗？怎么变成了Desc类的实例了呢？\n",
    "\n",
    "因为这里调用的是t.x，也就是说是Test类的实例t的属性x，由于实例t中并没有定义属性x，所以找到了类属性x，而该属性是描述符属性，为Desc类的实例而已，所以此处并没有顶用Test的任何方法。\n",
    "\n",
    "那么我们如果直接通过类来调用属性x也可以得到相同的结果。\n",
    "\n",
    "下面是把t.x改为Test.x运行的结果。\n"
   ]
  },
  {
   "cell_type": "code",
   "execution_count": 23,
   "id": "548d96a5-7875-495f-b3fc-383f6cf86443",
   "metadata": {},
   "outputs": [
    {
     "name": "stdout",
     "output_type": "stream",
     "text": [
      "self in Desc: <__main__.Desc object at 0x00000199C8C82660> \n",
      "<__main__.Desc object at 0x00000199C8C82660> None <class '__main__.Test'>\n"
     ]
    }
   ],
   "source": [
    "Test.x"
   ]
  },
  {
   "cell_type": "markdown",
   "id": "b50043c1-5e94-42d6-8b68-1e38d0d6ad65",
   "metadata": {},
   "source": [
    "t.x\n",
    "\n",
    "接下来，执行t.x：\n",
    "\n",
    "t是Test类的一个实例。\n",
    "\n",
    "x是Test类的一个类属性，且x是一个Desc类的实例。\n",
    "\n",
    "当访问t.x时，Python 会调用Desc类的__get__方法，因为Desc类定义了__get__方法，使其成为一个描述符（descriptor）。\n",
    "\n",
    "__get__方法的参数解释：\n",
    "\n",
    "self：描述符**实例本身**，即Desc类的实例x。\n",
    "\n",
    "ins：访问该属性的**实例**，即t。\n",
    "\n",
    "cls：访问该属性的**类**，即Test类。\n",
    "\n",
    "因此，t.x会调用Desc类的__get__方法，并打印："
   ]
  }
 ],
 "metadata": {
  "kernelspec": {
   "display_name": "Python 3 (ipykernel)",
   "language": "python",
   "name": "python3"
  },
  "language_info": {
   "codemirror_mode": {
    "name": "ipython",
    "version": 3
   },
   "file_extension": ".py",
   "mimetype": "text/x-python",
   "name": "python",
   "nbconvert_exporter": "python",
   "pygments_lexer": "ipython3",
   "version": "3.12.8"
  }
 },
 "nbformat": 4,
 "nbformat_minor": 5
}
