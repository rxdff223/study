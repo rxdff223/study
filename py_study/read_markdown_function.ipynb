{
 "cells": [
  {
   "cell_type": "markdown",
   "id": "085e2b21-9c1c-4fcd-8541-555c7a88cfac",
   "metadata": {},
   "source": [
    "# Markdown reader"
   ]
  },
  {
   "cell_type": "code",
   "execution_count": 2,
   "id": "ee01d6c3-ff3f-4889-af3d-a6361ccebe41",
   "metadata": {},
   "outputs": [
    {
     "ename": "SyntaxError",
     "evalue": "invalid syntax (1521256679.py, line 16)",
     "output_type": "error",
     "traceback": [
      "\u001b[1;36m  Cell \u001b[1;32mIn[2], line 16\u001b[1;36m\u001b[0m\n\u001b[1;33m    except Exception as e:\u001b[0m\n\u001b[1;37m    ^\u001b[0m\n\u001b[1;31mSyntaxError\u001b[0m\u001b[1;31m:\u001b[0m invalid syntax\n"
     ]
    }
   ],
   "source": [
    "def read_markdown_files(self, directory: str = \".\") -> List[str]:\n",
    "    \"\"\"\n",
    "    读取指定目录下的所有markdown文件内容\n",
    "        \n",
    "    Args:\n",
    "    directory: 要搜索的目录路径，默认为当前目录\n",
    "            \n",
    "    Returns:\n",
    "        包含所有markdown文件内容的列表\n",
    "    \"\"\"\n",
    "    markdown_contents = []\n",
    "    for md_file in glob.glob(os.path.join(directory, \"*.md\")):\n",
    "        try:\n",
    "            with open(md_file, 'r', encoding='utf-8') as f:\n",
    "                markdown_contents.append(f.read())\n",
    "            except Exception as e:\n",
    "                print(f\"读取文件 {md_file} 时出错: {str(e)}\")\n",
    "    return markdown_contents\n"
   ]
  },
  {
   "cell_type": "code",
   "execution_count": null,
   "id": "e00c0386-35db-407a-bbb4-27f3e9190560",
   "metadata": {},
   "outputs": [],
   "source": []
  }
 ],
 "metadata": {
  "kernelspec": {
   "display_name": "Python 3 (ipykernel)",
   "language": "python",
   "name": "python3"
  },
  "language_info": {
   "codemirror_mode": {
    "name": "ipython",
    "version": 3
   },
   "file_extension": ".py",
   "mimetype": "text/x-python",
   "name": "python",
   "nbconvert_exporter": "python",
   "pygments_lexer": "ipython3",
   "version": "3.12.8"
  }
 },
 "nbformat": 4,
 "nbformat_minor": 5
}
