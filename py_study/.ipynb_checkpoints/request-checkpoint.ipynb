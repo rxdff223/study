{
 "cells": [
  {
   "cell_type": "markdown",
   "id": "c60421c0-342c-47d0-864e-8be1059f0ab2",
   "metadata": {},
   "source": [
    "# requests 库"
   ]
  },
  {
   "cell_type": "code",
   "execution_count": null,
   "id": "dcac4bef-29db-417e-b741-ca0dfaeae2eb",
   "metadata": {},
   "outputs": [],
   "source": []
  }
 ],
 "metadata": {
  "kernelspec": {
   "display_name": "Python 3 (ipykernel)",
   "language": "python",
   "name": "python3"
  },
  "language_info": {
   "codemirror_mode": {
    "name": "ipython",
    "version": 3
   },
   "file_extension": ".py",
   "mimetype": "text/x-python",
   "name": "python",
   "nbconvert_exporter": "python",
   "pygments_lexer": "ipython3",
   "version": "3.12.8"
  }
 },
 "nbformat": 4,
 "nbformat_minor": 5
}
