{
 "cells": [
  {
   "cell_type": "markdown",
   "id": "085e2b21-9c1c-4fcd-8541-555c7a88cfac",
   "metadata": {},
   "source": [
    "# Markdown reader"
   ]
  },
  {
   "cell_type": "code",
   "execution_count": 1,
   "id": "ee01d6c3-ff3f-4889-af3d-a6361ccebe41",
   "metadata": {},
   "outputs": [
    {
     "ename": "NameError",
     "evalue": "name 'List' is not defined",
     "output_type": "error",
     "traceback": [
      "\u001b[1;31m---------------------------------------------------------------------------\u001b[0m",
      "\u001b[1;31mNameError\u001b[0m                                 Traceback (most recent call last)",
      "Cell \u001b[1;32mIn[1], line 1\u001b[0m\n\u001b[1;32m----> 1\u001b[0m \u001b[38;5;28;01mdef\u001b[39;00m \u001b[38;5;21mread_markdown_files\u001b[39m(\u001b[38;5;28mself\u001b[39m, directory: \u001b[38;5;28mstr\u001b[39m \u001b[38;5;241m=\u001b[39m \u001b[38;5;124m\"\u001b[39m\u001b[38;5;124m.\u001b[39m\u001b[38;5;124m\"\u001b[39m) \u001b[38;5;241m-\u001b[39m\u001b[38;5;241m>\u001b[39m \u001b[43mList\u001b[49m[\u001b[38;5;28mstr\u001b[39m]:\n\u001b[0;32m      2\u001b[0m \u001b[38;5;250m    \u001b[39m\u001b[38;5;124;03m\"\"\"\u001b[39;00m\n\u001b[0;32m      3\u001b[0m \u001b[38;5;124;03m    读取指定目录下的所有markdown文件内容\u001b[39;00m\n\u001b[0;32m      4\u001b[0m \u001b[38;5;124;03m    \u001b[39;00m\n\u001b[1;32m   (...)\u001b[0m\n\u001b[0;32m      9\u001b[0m \u001b[38;5;124;03m        包含所有markdown文件内容的列表\u001b[39;00m\n\u001b[0;32m     10\u001b[0m \u001b[38;5;124;03m    \"\"\"\u001b[39;00m\n\u001b[0;32m     11\u001b[0m     markdown_contents \u001b[38;5;241m=\u001b[39m []\n",
      "\u001b[1;31mNameError\u001b[0m: name 'List' is not defined"
     ]
    }
   ],
   "source": [
    "def read_markdown_files(self, directory: str = \".\") -> List[str]:\n",
    "    \"\"\"\n",
    "    读取指定目录下的所有markdown文件内容\n",
    "        \n",
    "    Args:\n",
    "    directory: 要搜索的目录路径，默认为当前目录\n",
    "            \n",
    "    Returns:\n",
    "        包含所有markdown文件内容的列表\n",
    "    \"\"\"\n",
    "    markdown_contents = []\n",
    "    for md_file in glob.glob(os.path.join(directory, \"*.md\")):\n",
    "        try:\n",
    "            with open(md_file, 'r', encoding='utf-8') as f:\n",
    "                markdown_contents.append(f.read())\n",
    "            except Exception as e:\n",
    "                print(f\"读取文件 {md_file} 时出错: {str(e)}\")\n",
    "    return markdown_contents"
   ]
  }
 ],
 "metadata": {
  "kernelspec": {
   "display_name": "Python 3 (ipykernel)",
   "language": "python",
   "name": "python3"
  },
  "language_info": {
   "codemirror_mode": {
    "name": "ipython",
    "version": 3
   },
   "file_extension": ".py",
   "mimetype": "text/x-python",
   "name": "python",
   "nbconvert_exporter": "python",
   "pygments_lexer": "ipython3",
   "version": "3.12.8"
  }
 },
 "nbformat": 4,
 "nbformat_minor": 5
}
