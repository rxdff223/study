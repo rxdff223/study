{
 "cells": [
  {
   "cell_type": "markdown",
   "id": "e1ca127b-1cb4-4115-8928-d58980585a90",
   "metadata": {},
   "source": [
    "# python对文件的操作方法简介\n",
    "\n",
    "1. 使用opne()函数"
   ]
  },
  {
   "cell_type": "code",
   "execution_count": 8,
   "id": "b7127df9-bc96-4572-99be-3794d665fb5d",
   "metadata": {},
   "outputs": [],
   "source": [
    "file_object = open(\"read_markdown_test.md\", mode='r', encoding=\"utf-8\")"
   ]
  },
  {
   "cell_type": "code",
   "execution_count": null,
   "id": "f397eb32-3c27-4596-82d8-74c63c583ecb",
   "metadata": {},
   "outputs": [],
   "source": []
  },
  {
   "cell_type": "code",
   "execution_count": null,
   "id": "3573c1c4-6d6f-443f-a89c-7f851087e44d",
   "metadata": {},
   "outputs": [],
   "source": []
  }
 ],
 "metadata": {
  "kernelspec": {
   "display_name": "Python 3 (ipykernel)",
   "language": "python",
   "name": "python3"
  },
  "language_info": {
   "codemirror_mode": {
    "name": "ipython",
    "version": 3
   },
   "file_extension": ".py",
   "mimetype": "text/x-python",
   "name": "python",
   "nbconvert_exporter": "python",
   "pygments_lexer": "ipython3",
   "version": "3.12.8"
  }
 },
 "nbformat": 4,
 "nbformat_minor": 5
}
