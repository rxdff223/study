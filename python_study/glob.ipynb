{
 "cells": [
  {
   "cell_type": "markdown",
   "id": "467b3314-791d-4b25-b76d-8a04e70aaedf",
   "metadata": {},
   "source": [
    "# glob库："
   ]
  },
  {
   "cell_type": "code",
   "execution_count": 2,
   "id": "ffbb3612-1447-4450-914e-ef81e6e99083",
   "metadata": {},
   "outputs": [
    {
     "name": "stdout",
     "output_type": "stream",
     "text": [
      "text.md\n"
     ]
    }
   ],
   "source": [
    "import glob\n",
    "\n",
    "# 查找当前目录下所有的 .md 文件\n",
    "markdown_files = glob.glob(\"*.md\")\n",
    "\n",
    "for file in markdown_files:\n",
    "    print(file)"
   ]
  },
  {
   "cell_type": "markdown",
   "id": "039c6968-d03d-4a47-bc62-28856147f39f",
   "metadata": {},
   "source": [
    "常用模式\n",
    "\n",
    "*匹配任意数量的字符（包括零个字符）。\n",
    "\n",
    "?匹配单个字符。\n",
    "\n",
    "[abc] 匹配方括号内的任意一个字符。\n",
    "\n",
    "主要功能\n",
    "\n",
    "glob.glob(pattern): 返回所有匹配给定模式的文件路径名**列表**。\n",
    "\n",
    "glob.iglob(pattern): 返回一个迭代器，生成匹配给定模式的文件路径名。\n",
    "\n",
    "glob 模块非常适合用于文件名模式匹配和批量文件操作。"
   ]
  }
 ],
 "metadata": {
  "kernelspec": {
   "display_name": "Python 3 (ipykernel)",
   "language": "python",
   "name": "python3"
  },
  "language_info": {
   "codemirror_mode": {
    "name": "ipython",
    "version": 3
   },
   "file_extension": ".py",
   "mimetype": "text/x-python",
   "name": "python",
   "nbconvert_exporter": "python",
   "pygments_lexer": "ipython3",
   "version": "3.12.8"
  }
 },
 "nbformat": 4,
 "nbformat_minor": 5
}
