{
 "cells": [
  {
   "cell_type": "markdown",
   "id": "32a18f6c-6a72-4af4-8cda-1573e55751e2",
   "metadata": {},
   "source": [
    "# 100 days to study python"
   ]
  },
  {
   "cell_type": "markdown",
   "id": "358075d0-129a-4054-a595-3eb7c25aedc4",
   "metadata": {},
   "source": [
    "## day 1"
   ]
  },
  {
   "cell_type": "markdown",
   "id": "377f51ab-3149-4d45-a0b1-814c2db2a109",
   "metadata": {},
   "source": [
    "### 变量和类型\n",
    "整型（int）：Python 中可以处理任意大小的整数，而且支持二进制（如0b100，换算成十进制是4）、八进制（如0o100，换算成十进制是64）、十进制（100）和十六进制（0x100，换算成十进制是256）的表示法。运行下面的代码，看看会输出什么。"
   ]
  },
  {
   "cell_type": "code",
   "execution_count": 1,
   "id": "ce7c6f31-c10f-4f96-9136-543c173a58a2",
   "metadata": {},
   "outputs": [
    {
     "name": "stdout",
     "output_type": "stream",
     "text": [
      "4\n",
      "64\n",
      "100\n",
      "256\n"
     ]
    }
   ],
   "source": [
    "print(0b100)  # 二进制整数\n",
    "print(0o100)  # 八进制整数\n",
    "print(100)    # 十进制整数\n",
    "print(0x100)  # 十六进制整数"
   ]
  },
  {
   "cell_type": "markdown",
   "id": "5467852c-2a35-4ede-8b66-468f9a07d594",
   "metadata": {},
   "source": [
    "浮点型（float）：浮点数也就是小数，之所以称为浮点数，是因为按照科学记数法表示时，一个浮点数的小数点位置是可变的，浮点数除了数学写法（如123.456）之外还支持科学计数法（如1.23456e2，表示$\\small{1.23456 \\times 10^{2}}$）。运行下面的代码，看看会输出什么。"
   ]
  },
  {
   "cell_type": "code",
   "execution_count": 2,
   "id": "3b902e66-7c50-414d-8721-ddc6c496f1dc",
   "metadata": {},
   "outputs": [
    {
     "name": "stdout",
     "output_type": "stream",
     "text": [
      "123.456\n",
      "123.456\n"
     ]
    }
   ],
   "source": [
    "print(123.456)    # 数学写法\n",
    "print(1.23456e2)  # 科学计数法"
   ]
  },
  {
   "cell_type": "markdown",
   "id": "5e0ee217-6c35-4e40-a37d-62ad8ac422d4",
   "metadata": {},
   "source": [
    "字符串型（str）：字符串是以单引号或双引号包裹起来的任意文本，比如'hello'和\"hello\"。\n",
    "\n",
    "布尔型（bool）：布尔型只有True、False两种值，要么是True，要么是False，可以用来表示现实世界中的“是”和“否”，命题的“真”和“假”，状况的“好”与“坏”，水平的“高”与“低”等等。如果一个变量的值只有两种状态，我们就可以使用布尔型。"
   ]
  },
  {
   "cell_type": "markdown",
   "id": "162f6b9a-8b6f-4c23-9fd7-c7f936de7595",
   "metadata": {},
   "source": [
    "### 变量命名\n",
    "规则1：变量名由**字母、数字和下划线**构成，数字不能开头。需要说明的是，这里说的**字母指的是 Unicode 字符**，Unicode 称为万国码，囊括了世界上大部分的文字系统，这也就意味着中文、日文、希腊字母等都可以作为变量名中的字符，但是一些特殊字符（如：！、@、#等）是不能出现在变量名中的。我们强烈建议大家把这里说的字母理解为尽可能只使用英文字母。\n",
    "\n",
    "规则2：Python 是大小写敏感的编程语言，简单的说就是大写的A和小写的a是两个不同的变量，这一条其实并不算规则，而是需要大家注意的地方。\n",
    "\n",
    "规则3：变量名不要跟 Python 的关键字重名，尽可能避开 Python 的保留字。这里的关键字是指在 Python 程序中有特殊含义的单词（如：is、if、else、for、while、True、False等），保留字主要指 Python 语言内置函数、内置模块等的名字（如：int、print、input、str、math、os等）。\n",
    "\n",
    "惯例1：变量名通常使用小写英文字母，多个单词用下划线进行连接。\n",
    "\n",
    "惯例2：受保护的变量用**单个下划线**开头。\n",
    "\n",
    "惯例3：**私有的变量用两个下划线开头**。"
   ]
  },
  {
   "cell_type": "code",
   "execution_count": 3,
   "id": "95fc3ef7-84f2-4f1e-82b9-d93fcad6ef34",
   "metadata": {},
   "outputs": [
    {
     "name": "stdout",
     "output_type": "stream",
     "text": [
      "45 23\n",
      "1035\n",
      "1.9565217391304348\n",
      "22\n",
      "68\n"
     ]
    }
   ],
   "source": [
    "a = 45\n",
    "b = 23\n",
    "print(a,b)\n",
    "print(a*b)\n",
    "print(a/b)\n",
    "print(a-b)\n",
    "print(a+b)"
   ]
  },
  {
   "cell_type": "markdown",
   "id": "74f36d78-e319-477f-824f-273e68cd790d",
   "metadata": {},
   "source": [
    "type函数"
   ]
  },
  {
   "cell_type": "code",
   "execution_count": 4,
   "id": "dcaab8db-922a-4823-8e8f-31a318d97791",
   "metadata": {},
   "outputs": [
    {
     "name": "stdout",
     "output_type": "stream",
     "text": [
      "<class 'int'>\n",
      "<class 'float'>\n",
      "<class 'str'>\n",
      "<class 'bool'>\n"
     ]
    }
   ],
   "source": [
    "a = 100\n",
    "b = 123.45\n",
    "c = 'hello, world'\n",
    "d = True\n",
    "print(type(a))  # <class 'int'>\n",
    "print(type(b))  # <class 'float'>\n",
    "print(type(c))  # <class 'str'>\n",
    "print(type(d))  # <class 'bool'>"
   ]
  },
  {
   "cell_type": "markdown",
   "id": "20b2ce38-ddb8-4816-83f2-750ee8db94ea",
   "metadata": {},
   "source": [
    "强制转化\n",
    "\n",
    "int()：将一个数值或字符串转换成整数，可以指定进制。\n",
    "\n",
    "float()：将一个字符串（在可能的情况下）转换成浮点数。\n",
    "\n",
    "str()：将指定的对象转换成字符串形式，可以指定编码方式。\n",
    "\n",
    "chr()：将整数（字符编码）转换成对应的（一个字符的）字符串。\n",
    "\n",
    "ord()：将（一个字符的）字符串转换成对应的整数（字符编码）。\n",
    "\n",
    "参数 base（可选）\n",
    "\n",
    "含义：指定字符串 x 的进制数。\n",
    "\n",
    "规则：\n",
    "\n",
    "只有当 x 是**字符串**时，base 参数才有效。\n",
    "\n",
    "base 的取值范围是 2 到 36，表示二进制到三十六进制。\n",
    "\n",
    "如果省略 base，默认为 10（十进制）。"
   ]
  },
  {
   "cell_type": "code",
   "execution_count": 7,
   "id": "258532b9-e186-4b2d-909e-b93cdaa799df",
   "metadata": {},
   "outputs": [
    {
     "name": "stdout",
     "output_type": "stream",
     "text": [
      "100.0\n",
      "123\n",
      "123\n",
      "291\n",
      "4\n",
      "123.45\n",
      "True\n",
      "1\n",
      "d\n",
      "100\n"
     ]
    }
   ],
   "source": [
    "a = 100\n",
    "b = 123.45\n",
    "c = '123'\n",
    "d = '100'\n",
    "e = '123.45'\n",
    "f = 'hello, world'\n",
    "g = True\n",
    "print(float(a))         # int类型的100转成float，输出100.0\n",
    "print(int(b))           # float类型的123.45转成int，输出123\n",
    "print(int(c))           # str类型的'123'转成int，输出123\n",
    "print(int(c, base=16))  # str类型的'123'按十六进制转成int，输出291\n",
    "print(int(d, base=2))   # str类型的'100'按二进制转成int，输出4\n",
    "print(float(e))         # str类型的'123.45'转成float，输出123.45\n",
    "print(bool(f))          # str类型的'hello, world'转成bool，输出True\n",
    "print(int(g))           # bool类型的True转成int，输出1\n",
    "print(chr(a))           # int类型的100转成str，输出'd'\n",
    "print(ord('d'))         # str类型的'd'转成int，输出100"
   ]
  },
  {
   "cell_type": "markdown",
   "id": "7bbfb79f-5481-4755-8170-de8cc230c596",
   "metadata": {},
   "source": [
    "### 运算符"
   ]
  },
  {
   "cell_type": "markdown",
   "id": "0253995c-4107-4b11-bd6d-4d817b2aabf1",
   "metadata": {},
   "source": [
    "[:]为切片\n",
    "\n",
    ">>、<<右移、左移"
   ]
  },
  {
   "cell_type": "code",
   "execution_count": 1,
   "id": "fa0d5658-a6d1-498a-9fd8-864e29a58e46",
   "metadata": {},
   "outputs": [
    {
     "name": "stdin",
     "output_type": "stream",
     "text": [
      "请输入温度： 1\n"
     ]
    },
    {
     "name": "stdout",
     "output_type": "stream",
     "text": [
      "-17.22222222222222\n"
     ]
    }
   ],
   "source": [
    "# 华氏温度转摄氏温度\n",
    "f = float(input('请输入温度：'))\n",
    "c = (f-32)/1.8\n",
    "print(c)"
   ]
  },
  {
   "cell_type": "markdown",
   "id": "6f0a9814-5539-486d-8079-2e5c2ec75c57",
   "metadata": {},
   "source": [
    "{f:.1f}和{c:.1f}可以先看成是{f}和{c}，表示输出时会用变量f和变量c的值替换掉这两个占位符，**后面的:.1f表示**这是一个浮点数，小数点后保留1位有效数字。"
   ]
  },
  {
   "cell_type": "code",
   "execution_count": 2,
   "id": "516cd1dd-cc52-4a5c-8282-ac1f91b6aee9",
   "metadata": {},
   "outputs": [
    {
     "name": "stdin",
     "output_type": "stream",
     "text": [
      "请输入华氏温度:  1\n"
     ]
    },
    {
     "name": "stdout",
     "output_type": "stream",
     "text": [
      "1.0华氏度 = -17.2摄氏度\n"
     ]
    }
   ],
   "source": [
    "# 格式化输出\n",
    "f = float(input('请输入华氏温度: '))\n",
    "c = (f - 32) / 1.8\n",
    "print(f'{f:.1f}华氏度 = {c:.1f}摄氏度')"
   ]
  },
  {
   "cell_type": "code",
   "execution_count": null,
   "id": "7e6560c4-23f8-48a6-83b1-74c2297e18b0",
   "metadata": {},
   "outputs": [],
   "source": [
    "# 计算面积\n",
    "import math\n",
    "r = float(input('请输入半径: '))\n",
    "print(f'面积为{math.pi*r**2:.2f}')\n"
   ]
  },
  {
   "cell_type": "code",
   "execution_count": 7,
   "id": "edb8e3cf-b8db-4568-88f6-10bba872b37a",
   "metadata": {},
   "outputs": [
    {
     "name": "stdin",
     "output_type": "stream",
     "text": [
      "请输入年份 2024\n"
     ]
    },
    {
     "name": "stdout",
     "output_type": "stream",
     "text": [
      "is_leap = True\n"
     ]
    }
   ],
   "source": [
    "# 计算闰年\n",
    "\n",
    "year = int(input('请输入年份'))\n",
    "is_leap = year % 4 == 0 and year % 100 != 0 or year % 400 == 0\n",
    "print(f'{is_leap = }')\n"
   ]
  },
  {
   "cell_type": "markdown",
   "id": "f3612646-e141-434c-bdc0-518a11f20cef",
   "metadata": {},
   "source": [
    "## 分支结构\n",
    "\n",
    "### if else"
   ]
  },
  {
   "cell_type": "code",
   "execution_count": 12,
   "id": "ca98d646-9a95-4421-958a-20c1a85f45b3",
   "metadata": {},
   "outputs": [
    {
     "name": "stdin",
     "output_type": "stream",
     "text": [
      "height(m): 1.70\n",
      "weight(kg): 80\n"
     ]
    },
    {
     "name": "stdout",
     "output_type": "stream",
     "text": [
      "27.68\n"
     ]
    }
   ],
   "source": [
    "# BMI\n",
    "height = float(input('height(m):'))\n",
    "weight = float(input('weight(kg):'))\n",
    "bmi = weight/height/height\n",
    "print(f'{bmi:.2f}')\n",
    "if bmi < 18.5:\n",
    "    print('你的体重过轻！')\n",
    "elif bmi < 24:\n",
    "    print('你的身材很棒！')\n",
    "elif bmi < 27:\n",
    "    print('你的体重过重！')\n",
    "elif bmi < 30:\n",
    "    print('你已轻度肥胖！')\n",
    "elif bmi < 35:\n",
    "    print('你已中度肥胖！')\n",
    "else:\n",
    "    print('你已重度肥胖！')"
   ]
  },
  {
   "cell_type": "markdown",
   "id": "b265c2db-ccfe-4870-8919-cb058e95ae90",
   "metadata": {},
   "source": [
    "### match-case"
   ]
  },
  {
   "cell_type": "code",
   "execution_count": null,
   "id": "7628dce0-f620-46f2-9bae-3ae358062c7b",
   "metadata": {},
   "outputs": [],
   "source": [
    "status_code = int(input('响应状态码: '))\n",
    "match status_code:\n",
    "    case 400: description = 'Bad Request'\n",
    "    case 400: description = 'Bad Request'\n",
    "    case 401: description = 'Unauthorized'\n",
    "    case 403: description = 'Forbidden'\n",
    "    case 404: description = 'Not Found'\n",
    "    case 405: description = 'Method Not Allowed'\n",
    "    case _: description = 'Unknown Status Code'\n",
    "print('状态码描述:', description)\n"
   ]
  },
  {
   "cell_type": "markdown",
   "id": "bf27ef79-d6f0-43f6-a794-c9b38ff5599a",
   "metadata": {},
   "source": [
    "带有_的case语句在代码中起到通配符的作用，如果前面的分支都没有匹配上，代码就会来到case _。case _的使用是可选的，并非每种分支结构都要给出通配符选项。如果分支中出现了case _，**它只能放在分支结构的最后面**，如果它的后面还有其他的分支，那么这些分支将是不可达的。"
   ]
  },
  {
   "cell_type": "code",
   "execution_count": null,
   "id": "911489fa-ed8a-49c4-b9f4-d5551bd25391",
   "metadata": {},
   "outputs": [],
   "source": [
    "status_code = int(input('响应状态码: '))\n",
    "match status_code:\n",
    "    case 400 | 405: description = 'Invalid Request'\n",
    "    case 401 | 403 | 404: description = 'Not Allowed'\n",
    "    case _: description = 'Unknown Status Code'\n",
    "print('状态码描述:', description)"
   ]
  },
  {
   "cell_type": "markdown",
   "id": "11b9ff39-984f-4669-b97a-5e98393ee1dc",
   "metadata": {},
   "source": [
    "## 循环结构\n",
    "\n",
    "### for-in循环\n",
    "\n",
    "range() 左闭右开\n",
    "\n",
    "range(101)：可以用来产生0到100范围的整数，需要注意的是取不到101。"
   ]
  },
  {
   "cell_type": "code",
   "execution_count": 13,
   "id": "64304123-b25b-4f77-8ee8-7261b438bb3f",
   "metadata": {},
   "outputs": [
    {
     "name": "stdout",
     "output_type": "stream",
     "text": [
      "hello, world\n",
      "hello, world\n",
      "hello, world\n",
      "hello, world\n",
      "hello, world\n"
     ]
    },
    {
     "ename": "KeyboardInterrupt",
     "evalue": "",
     "output_type": "error",
     "traceback": [
      "\u001b[1;31m---------------------------------------------------------------------------\u001b[0m",
      "\u001b[1;31mKeyboardInterrupt\u001b[0m                         Traceback (most recent call last)",
      "Cell \u001b[1;32mIn[13], line 6\u001b[0m\n\u001b[0;32m      4\u001b[0m \u001b[38;5;28;01mfor\u001b[39;00m _ \u001b[38;5;129;01min\u001b[39;00m \u001b[38;5;28mrange\u001b[39m(\u001b[38;5;241m3600\u001b[39m):\n\u001b[0;32m      5\u001b[0m     \u001b[38;5;28mprint\u001b[39m(\u001b[38;5;124m'\u001b[39m\u001b[38;5;124mhello, world\u001b[39m\u001b[38;5;124m'\u001b[39m)\n\u001b[1;32m----> 6\u001b[0m     \u001b[43mtime\u001b[49m\u001b[38;5;241;43m.\u001b[39;49m\u001b[43msleep\u001b[49m\u001b[43m(\u001b[49m\u001b[38;5;241;43m1\u001b[39;49m\u001b[43m)\u001b[49m\n",
      "\u001b[1;31mKeyboardInterrupt\u001b[0m: "
     ]
    }
   ],
   "source": [
    "# 不需要用到i的话，直接用_替代，虽然没什么区别，但是很帅\n",
    "import time\n",
    "\n",
    "for _ in range(3600):\n",
    "    print('hello, world')\n",
    "    time.sleep(1)"
   ]
  },
  {
   "cell_type": "markdown",
   "id": "ae4e6a94-09fc-4e27-b7a4-7fa21eeddab6",
   "metadata": {},
   "source": [
    "### break和continue\n",
    "\n",
    "break,直接终止循环\n",
    "\n",
    "continue，终止本次循环"
   ]
  },
  {
   "cell_type": "markdown",
   "id": "ff04ac24-2224-4408-b1f6-39ed826dad41",
   "metadata": {},
   "source": [
    "### 嵌套的循环结构"
   ]
  },
  {
   "cell_type": "code",
   "execution_count": 23,
   "id": "844d89e5-19a2-4871-b965-07a0c3ce0281",
   "metadata": {},
   "outputs": [
    {
     "name": "stdout",
     "output_type": "stream",
     "text": [
      "1*1 = 1\t\n",
      "2*1 = 2\t2*2 = 4\t\n",
      "3*1 = 3\t3*2 = 6\t3*3 = 9\t\n",
      "4*1 = 4\t4*2 = 8\t4*3 = 12\t4*4 = 16\t\n",
      "5*1 = 5\t5*2 = 10\t5*3 = 15\t5*4 = 20\t5*5 = 25\t\n",
      "6*1 = 6\t6*2 = 12\t6*3 = 18\t6*4 = 24\t6*5 = 30\t6*6 = 36\t\n",
      "7*1 = 7\t7*2 = 14\t7*3 = 21\t7*4 = 28\t7*5 = 35\t7*6 = 42\t7*7 = 49\t\n",
      "8*1 = 8\t8*2 = 16\t8*3 = 24\t8*4 = 32\t8*5 = 40\t8*6 = 48\t8*7 = 56\t8*8 = 64\t\n",
      "9*1 = 9\t9*2 = 18\t9*3 = 27\t9*4 = 36\t9*5 = 45\t9*6 = 54\t9*7 = 63\t9*8 = 72\t9*9 = 81\t\n"
     ]
    }
   ],
   "source": [
    "for i in range(1, 10):\n",
    "    for j in range(1, 10):\n",
    "        if i >= j:\n",
    "            # /t 为制表符，制表符的宽度并不是固定的，它通常会将光标移动到下一个“制表位”。\n",
    "            # 默认情况下，制表位通常每隔8个字符设置一个，但这个值可以在不同的编辑器或终端中进行调整。\n",
    "            print(f'{i}*{j} = {i*j}', end = '\\t')\n",
    "    print()"
   ]
  },
  {
   "cell_type": "code",
   "execution_count": null,
   "id": "7144fa43-7e68-4cbc-a572-acef69cc8b39",
   "metadata": {},
   "outputs": [],
   "source": [
    "# 最大公约数\n",
    "\n",
    "x = int(input('x = '))\n",
    "y = int(input('y = '))\n",
    "# 循环变量值是从大到小的\n",
    "for i in range(x, 0, -1):\n",
    "    if x % i == 0 and y % i == 0:\n",
    "        print(f'最大公约数: {i}')\n",
    "        break"
   ]
  },
  {
   "cell_type": "markdown",
   "id": "a641481c-10a0-434a-8451-52fed59f03c5",
   "metadata": {},
   "source": [
    "# 分支结构和循环结构的应用"
   ]
  },
  {
   "cell_type": "code",
   "execution_count": 3,
   "id": "60c02d9c-b5be-407a-b58b-e15c0043f101",
   "metadata": {},
   "outputs": [
    {
     "name": "stdout",
     "output_type": "stream",
     "text": [
      "2\n",
      "3\n",
      "5\n",
      "7\n",
      "11\n",
      "13\n",
      "17\n",
      "19\n",
      "23\n",
      "29\n",
      "31\n",
      "37\n",
      "41\n",
      "43\n",
      "47\n",
      "53\n",
      "59\n",
      "61\n",
      "67\n",
      "71\n",
      "73\n",
      "79\n",
      "83\n",
      "89\n",
      "97\n"
     ]
    }
   ],
   "source": [
    "# 100以内的素数\n",
    "for i in range(2,100):\n",
    "    is_prime = True\n",
    "    for j in range(2,int(i/2)+1):\n",
    "        if i % j == 0:\n",
    "            is_prime = False\n",
    "            break\n",
    "    if is_prime:\n",
    "        print(i)\n"
   ]
  },
  {
   "cell_type": "code",
   "execution_count": 8,
   "id": "d6a8e06a-8ed7-4dce-b2e6-a572fd401926",
   "metadata": {},
   "outputs": [
    {
     "name": "stdout",
     "output_type": "stream",
     "text": [
      "1\n",
      "1\n",
      "2\n",
      "3\n",
      "5\n",
      "8\n",
      "13\n",
      "21\n",
      "34\n",
      "55\n"
     ]
    }
   ],
   "source": [
    "# 斐波那契数列\n",
    "a = [1,1]\n",
    "for i in range(10):\n",
    "    x = a[i]+a[i+1]\n",
    "    a.append(x)\n",
    "    print(a[i])\n",
    "\n",
    "a, b = 0, 1\n",
    "for _ in range(20):\n",
    "    a, b = b, a + b\n",
    "    print(a)"
   ]
  },
  {
   "cell_type": "code",
   "execution_count": null,
   "id": "d450b311-e2a4-46ce-8b79-061d95640e1d",
   "metadata": {},
   "outputs": [],
   "source": [
    "# 百钱百鸡问题\n",
    "for x in range(0, 21):\n",
    "    for y in range(0, 34):\n",
    "        for z in range(0, 100, 3):\n",
    "            if x + y + z == 100 and 5 * x + 3 * y + z // 3 == 100:\n",
    "                print(f'公鸡: {x}只, 母鸡: {y}只, 小鸡: {z}只')\n",
    "# 非常巧妙！！！"
   ]
  },
  {
   "cell_type": "markdown",
   "id": "fbe41a09-6621-425e-873a-93852c85108d",
   "metadata": {},
   "source": [
    "## 常用数据结构之列表-1\n",
    "## 创建列表\n",
    "在 Python 中，列表是由一系元素按特定顺序构成的数据序列，这就意味着如果我们定义一个列表类型的变量，可以用它来保存多个数据。在 python 中，可以使用[]字面量语法来定义列表，列表中的多个元素用逗号进行分隔，代码如下所示。"
   ]
  },
  {
   "cell_type": "code",
   "execution_count": null,
   "id": "e00f7d94-68b2-4eb3-8419-fde37faa20ee",
   "metadata": {},
   "outputs": [],
   "source": [
    "items1 = [35, 12, 99, 68, 55, 35, 87]\n",
    "items2 = ['Python', 'Java', 'Go', 'Kotlin']\n",
    "items3 = [100, 12.3, 'Python', True]\n",
    "print(items1)  # [35, 12, 99, 68, 55, 35, 87]\n",
    "print(items2)  # ['Python', 'Java', 'Go', 'Kotlin']\n",
    "print(items3)  # [100, 12.3, 'Python', True]\n",
    "items4 = list(range(1, 10))\n",
    "items5 = list('hello')\n",
    "print(items4)  # [1, 2, 3, 4, 5, 6, 7, 8, 9]\n",
    "print(items5)  # ['h', 'e', 'l', 'l', 'o']"
   ]
  },
  {
   "cell_type": "markdown",
   "id": "82a00ae9-8c98-47a4-b3cb-2dba4b0bbd01",
   "metadata": {},
   "source": [
    "### 列表的运算\n",
    "**可以使用+运算符实现两个列表的拼接**\n"
   ]
  },
  {
   "cell_type": "code",
   "execution_count": null,
   "id": "ab6ff7a5-35f6-470a-883d-8c625552f110",
   "metadata": {},
   "outputs": [],
   "source": [
    "items5 = [35, 12, 99, 45, 66]\n",
    "items6 = [45, 58, 29]\n",
    "items7 = ['Python', 'Java', 'JavaScript']\n",
    "print(items5 + items6)  # [35, 12, 99, 45, 66, 45, 58, 29]\n",
    "print(items6 + items7)  # [45, 58, 29, 'Python', 'Java', 'JavaScript']\n",
    "items5 += items6\n",
    "print(items5)  # [35, 12, 99, 45, 66, 45, 58, 29]"
   ]
  },
  {
   "cell_type": "markdown",
   "id": "f5277af3-df33-4245-8eb5-6cc148477792",
   "metadata": {},
   "source": [
    "**可以使用*运算符实现列表的重复运算**"
   ]
  },
  {
   "cell_type": "code",
   "execution_count": null,
   "id": "e5ed3116-7b29-49ed-aa43-9443c8141634",
   "metadata": {},
   "outputs": [],
   "source": [
    "# 其实就是items6+items6+items6\n",
    "print(items6 * 3)  # [45, 58, 29, 45, 58, 29, 45, 58, 29]\n",
    "print(items7 * 2)  # ['Python', 'Java', 'JavaScript', 'Python', 'Java', 'JavaScript']"
   ]
  },
  {
   "cell_type": "code",
   "execution_count": null,
   "id": "50011c2b-1ae2-440f-9486-78908cd1b8c7",
   "metadata": {},
   "outputs": [],
   "source": [
    "**可以使用in或not in运算符判断一个元素在不在列表中**"
   ]
  },
  {
   "cell_type": "code",
   "execution_count": null,
   "id": "a9eea636-c453-471c-894c-1b1c8a5da583",
   "metadata": {},
   "outputs": [],
   "source": [
    "print(29 in items6)  # True\n",
    "print(99 in items6)  # False\n",
    "print('C++' not in items7)     # True\n",
    "print('Python' not in items7)  # False"
   ]
  },
  {
   "cell_type": "markdown",
   "id": "61abe39e-f23d-4507-9d44-67e6b777a6ce",
   "metadata": {},
   "source": [
    "[]是运算符号，通过在[]中指定元素的位置来访问该元素，这种运算称为索引运算。需要说明的是，[]的元素位置可以是0到N - 1的整数，也可以是-1到-N的整数，分别称为正向索引和反向索引"
   ]
  },
  {
   "cell_type": "code",
   "execution_count": 10,
   "id": "e08e3056-ef81-4b7f-829a-966fe27e6a82",
   "metadata": {},
   "outputs": [
    {
     "name": "stdout",
     "output_type": "stream",
     "text": [
      "apple\n",
      "pitaya\n",
      "watermelon\n",
      "['apple', 'waxberry', 'durian', 'peach', 'watermelon']\n",
      "apple\n",
      "waxberry\n",
      "watermelon\n",
      "['apple', 'strawberry', 'durian', 'peach', 'watermelon']\n"
     ]
    }
   ],
   "source": [
    "items8 = ['apple', 'waxberry', 'pitaya', 'peach', 'watermelon']\n",
    "print(items8[0])   # apple\n",
    "print(items8[2])   # pitaya\n",
    "print(items8[4])   # watermelon\n",
    "items8[2] = 'durian'\n",
    "print(items8)      # ['apple', 'waxberry', 'durian', 'peach', 'watermelon']\n",
    "print(items8[-5])  # 'apple'\n",
    "print(items8[-4])  # 'waxberry'\n",
    "print(items8[-1])  # watermelon\n",
    "items8[-4] = 'strawberry'\n",
    "print(items8)      # ['apple', 'strawberry', 'durian', 'peach', 'watermelon']"
   ]
  },
  {
   "cell_type": "markdown",
   "id": "3f63b5dc-9105-40e0-b13b-ce5ea68ab983",
   "metadata": {},
   "source": [
    "**切片运算**\n",
    "\n",
    "如[start:end:stride]：其中start代表访问列表元素的起始位置，end代表访问列表元素的终止位置（**终止位置的元素无法访问**），而stride则代表了跨度"
   ]
  },
  {
   "cell_type": "code",
   "execution_count": 11,
   "id": "a107765c-aca9-456d-a3bc-d0d00e27b20f",
   "metadata": {},
   "outputs": [
    {
     "name": "stdout",
     "output_type": "stream",
     "text": [
      "['strawberry', 'durian']\n",
      "['apple', 'strawberry', 'durian']\n",
      "['apple', 'durian', 'watermelon']\n",
      "['strawberry', 'durian']\n",
      "['peach', 'durian', 'strawberry', 'apple']\n"
     ]
    }
   ],
   "source": [
    "print(items8[1:3:1])     # ['strawberry', 'durian']\n",
    "print(items8[0:3:1])     # ['apple', 'strawberry', 'durian']\n",
    "print(items8[0:5:2])     # ['apple', 'durian', 'watermelon']\n",
    "print(items8[-4:-2:1])   # ['strawberry', 'durian']\n",
    "print(items8[-2:-6:-1])  # ['peach', 'durian', 'strawberry', 'apple']"
   ]
  },
  {
   "cell_type": "markdown",
   "id": "41398f6b-6547-4300-a541-416c4cad696c",
   "metadata": {},
   "source": [
    "如果start值**等于0**，那么在使用切片运算符时可以将其省略；如果end值**等于N**，N代表列表元素的个数，那么在使用切片运算符时可以将其省略；如果stride值**等于1**，那么在使用切片运算符时也可以将其省略。所以，下面的代码跟上面的代码作用完全相同。"
   ]
  },
  {
   "cell_type": "code",
   "execution_count": null,
   "id": "8229776d-42ed-44b3-b7a7-053f7c1e57bc",
   "metadata": {},
   "outputs": [],
   "source": [
    "print(items8[1:3])     # ['strawberry', 'durian']\n",
    "print(items8[:3:1])    # ['apple', 'strawberry', 'durian']\n",
    "print(items8[::2])     # ['apple', 'durian', 'watermelon']\n",
    "print(items8[-4:-2])   # ['strawberry', 'durian']\n",
    "print(items8[-2::-1])  # ['peach', 'durian', 'strawberry', 'apple']"
   ]
  },
  {
   "cell_type": "markdown",
   "id": "1885fd91-b8fb-4a62-a532-75e65f3a7c74",
   "metadata": {},
   "source": [
    "### 元素的遍历"
   ]
  },
  {
   "cell_type": "markdown",
   "id": "94209c65-49e5-4b39-9649-62c7475712ef",
   "metadata": {},
   "source": [
    "### 添加和删除元素\n",
    "\n",
    "append方法向列表中追加元素，使用insert方法向列表中插入元素"
   ]
  },
  {
   "cell_type": "code",
   "execution_count": null,
   "id": "74e1eb14-0af7-47fa-8f03-1ba01138e2ec",
   "metadata": {},
   "outputs": [],
   "source": [
    "languages = ['Python', 'Java', 'C++']\n",
    "languages.append('JavaScript')\n",
    "print(languages)  # ['Python', 'Java', 'C++', 'JavaScript']\n",
    "languages.insert(1, 'SQL')\n",
    "print(languages)  # ['Python', 'SQL', 'Java', 'C++', 'JavaScript']"
   ]
  },
  {
   "cell_type": "markdown",
   "id": "910d49b7-06a1-40b6-ac22-1ad0a76a524e",
   "metadata": {},
   "source": [
    "remove方法从列表中删除指定元素,需要注意的是，如果要删除的元素并不在列表中，会引发ValueError错误导致程序崩溃，所以建议大家在删除元素时，先用之前讲过的成员运算做一个判断\n",
    "\n",
    "pop方法从列表中删除元素，pop方法默认删除列表中的最后一个元素，当然也可以给一个位置，**删除指定位置的元素**。在使用pop方法删除元素时，如果索引的值超出了范围，会引发IndexError异常，导致程序崩溃。除此之外，列表还有一个clear方法，可以清空列表中的元素"
   ]
  },
  {
   "cell_type": "code",
   "execution_count": null,
   "id": "c212b535-b2d5-4660-afee-995e0087f131",
   "metadata": {},
   "outputs": [],
   "source": [
    "languages = ['Python', 'SQL', 'Java', 'C++', 'JavaScript']\n",
    "if 'Java' in languages:\n",
    "    languages.remove('Java')\n",
    "if 'Swift' in languages:\n",
    "    languages.remove('Swift')\n",
    "print(languages)  # ['Python', 'SQL', C++', 'JavaScript']\n",
    "languages.pop()\n",
    "temp = languages.pop(1)\n",
    "print(temp)       # SQL\n",
    "languages.append(temp)\n",
    "print(languages)  # ['Python', C++', 'SQL']\n",
    "languages.clear()\n",
    "print(languages)  # []"
   ]
  }
 ],
 "metadata": {
  "kernelspec": {
   "display_name": "Python 3 (ipykernel)",
   "language": "python",
   "name": "python3"
  },
  "language_info": {
   "codemirror_mode": {
    "name": "ipython",
    "version": 3
   },
   "file_extension": ".py",
   "mimetype": "text/x-python",
   "name": "python",
   "nbconvert_exporter": "python",
   "pygments_lexer": "ipython3",
   "version": "3.12.8"
  }
 },
 "nbformat": 4,
 "nbformat_minor": 5
}
