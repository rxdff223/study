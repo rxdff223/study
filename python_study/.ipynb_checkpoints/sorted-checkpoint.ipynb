{
 "cells": [
  {
   "cell_type": "markdown",
   "id": "2d305dd5-1479-49c6-96a8-2d2c97c62c24",
   "metadata": {},
   "source": [
    "# sorted参数介绍\n",
    "\n",
    "## 第一个参数可以是任何可迭代对象："
   ]
  },
  {
   "cell_type": "code",
   "execution_count": null,
   "id": "dec68479-6376-491e-9998-b192551596a8",
   "metadata": {},
   "outputs": [],
   "source": [
    "# 列表\n",
    "numbers = [3, 1, 4, 2]\n",
    "sorted(numbers)  # [1, 2, 3, 4]\n",
    "\n",
    "# 元组\n",
    "letters = ('d', 'a', 'c', 'b')\n",
    "sorted(letters)  # ['a', 'b', 'c', 'd']\n",
    "\n",
    "# 字符串\n",
    "text = \"hello\"\n",
    "sorted(text)  # ['e', 'h', 'l', 'l', 'o']\n",
    "\n",
    "# 集合\n",
    "set_nums = {3, 1, 4, 2}\n",
    "sorted(set_nums)  # [1, 2, 3, 4]"
   ]
  },
  {
   "cell_type": "markdown",
   "id": "484482b2-762a-4e63-9905-a223c89a612b",
   "metadata": {},
   "source": [
    "# 第二个参数key 是一个函数，用于指定排序的依据\n",
    "\n",
    "## 每个元素在排序前都会经过这个函数处理"
   ]
  },
  {
   "cell_type": "code",
   "execution_count": 1,
   "id": "af1f7dac-0e39-41af-9968-846834f2cb6c",
   "metadata": {},
   "outputs": [
    {
     "data": {
      "text/plain": [
       "['c++', 'java', 'python', 'javascript']"
      ]
     },
     "execution_count": 1,
     "metadata": {},
     "output_type": "execute_result"
    }
   ],
   "source": [
    "# 示例1：按字符串长度排序\n",
    "words = ['python', 'java', 'c++', 'javascript']\n",
    "sorted(words, key=len)  # ['c++', 'java', 'python', 'javascript']\n"
   ]
  },
  {
   "cell_type": "code",
   "execution_count": null,
   "id": "7e097b29-ee3e-4abc-bfe9-25c214323e38",
   "metadata": {},
   "outputs": [],
   "source": [
    "# 示例2：按最后一个字母排序\n",
    "sorted(words, key=lambda x: x[-1])"
   ]
  },
  {
   "cell_type": "code",
   "execution_count": 3,
   "id": "513cbc37-48a0-4074-9e0a-653b5474306c",
   "metadata": {},
   "outputs": [
    {
     "data": {
      "text/plain": [
       "[1, -2, 3, -4]"
      ]
     },
     "execution_count": 3,
     "metadata": {},
     "output_type": "execute_result"
    }
   ],
   "source": [
    "# 示例3：按数字的绝对值排序\n",
    "numbers = [-4, -2, 1, 3]\n",
    "sorted(numbers, key=abs)  # [1, -2, 3, -4]"
   ]
  },
  {
   "cell_type": "code",
   "execution_count": 6,
   "id": "e0ca6923-afa6-4d14-8c9b-46c0428dacc0",
   "metadata": {},
   "outputs": [
    {
     "data": {
      "text/plain": [
       "[{'name': '李四', 'age': 16},\n",
       " {'name': '王五', 'age': 17},\n",
       " {'name': '张三', 'age': 18}]"
      ]
     },
     "execution_count": 6,
     "metadata": {},
     "output_type": "execute_result"
    }
   ],
   "source": [
    "# 示例4：字典排序\n",
    "students = [\n",
    "    {'name': '张三', 'age': 18},\n",
    "    {'name': '李四', 'age': 16},\n",
    "    {'name': '王五', 'age': 17}\n",
    "]\n",
    "# 按年龄排序\n",
    "sorted(students, key=lambda x: x['age'])"
   ]
  },
  {
   "cell_type": "markdown",
   "id": "f058cdaf-1330-4f18-adc1-236212430df2",
   "metadata": {},
   "source": [
    "# 第三个参数 reverse："
   ]
  },
  {
   "cell_type": "code",
   "execution_count": null,
   "id": "33e6a42e-32f4-434f-b054-9d683ad266b4",
   "metadata": {},
   "outputs": [],
   "source": [
    "numbers = [1, 2, 3, 4, 5]\n",
    "\n",
    "# reverse=False（默认）：升序\n",
    "sorted(numbers, reverse=False)  # [1, 2, 3, 4, 5]\n",
    "\n",
    "# reverse=True：降序\n",
    "sorted(numbers, reverse=True)   # [5, 4, 3, 2, 1]\n",
    "\n",
    "# 结合key使用\n",
    "words = ['python', 'java', 'c++']\n",
    "# 按长度降序\n",
    "sorted(words, key=len, reverse=True)  # ['python', 'java', 'c++']"
   ]
  },
  {
   "cell_type": "markdown",
   "id": "1a42a0bc-56ce-4285-9632-24c2d6b21ec9",
   "metadata": {},
   "source": [
    "对单词的排序是基于ASCII编码的"
   ]
  }
 ],
 "metadata": {
  "kernelspec": {
   "display_name": "Python 3 (ipykernel)",
   "language": "python",
   "name": "python3"
  },
  "language_info": {
   "codemirror_mode": {
    "name": "ipython",
    "version": 3
   },
   "file_extension": ".py",
   "mimetype": "text/x-python",
   "name": "python",
   "nbconvert_exporter": "python",
   "pygments_lexer": "ipython3",
   "version": "3.12.8"
  }
 },
 "nbformat": 4,
 "nbformat_minor": 5
}
