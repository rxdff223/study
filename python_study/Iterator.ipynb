{
 "cells": [
  {
   "cell_type": "markdown",
   "id": "7671d897-0925-40da-8ecb-1ce6b21149c8",
   "metadata": {},
   "source": [
    "# 迭代器(iterator)"
   ]
  },
  {
   "cell_type": "code",
   "execution_count": null,
   "id": "3129782b-0921-4334-9e29-bfed4978ea7f",
   "metadata": {},
   "outputs": [],
   "source": []
  }
 ],
 "metadata": {
  "kernelspec": {
   "display_name": "",
   "name": ""
  },
  "language_info": {
   "name": ""
  }
 },
 "nbformat": 4,
 "nbformat_minor": 5
}
